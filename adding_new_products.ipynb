{
 "cells": [
  {
   "cell_type": "markdown",
   "id": "19035fd3",
   "metadata": {},
   "source": [
    "# ADDING NEW PRODUCTS"
   ]
  },
  {
   "cell_type": "code",
   "execution_count": null,
   "id": "5242dce6",
   "metadata": {},
   "outputs": [],
   "source": [
    "# displays the time when the update happened.\n",
    "import json\n",
    "fd = open(\"record.json\",'r')\n",
    "r = fd.read()\n",
    "fd.close()\n",
    "record = json.loads(r)\n",
    "\n",
    "import time\n",
    "\n",
    "print(\"****\",time.ctime(),\"****\",\"\\n\") \n",
    "\n",
    "#ADDING NEW PRODUCTS OR UPDATING THE INVENTORY\n",
    "\n",
    "prod_id = str(input(\"Enter prod_id: \"))\n",
    "prod_name = (input(\"Enter prod_name: \"))\n",
    "price = int(input(\"Enter price:  \"))\n",
    "quant = int(input(\"Enter quantity: \"))\n",
    "exp = str(input(\"Enter exp:  \"))\n",
    "\n",
    "#UPDATING THE QUANTITY & PRICE OF AN EXISTING PRODUCT IN AN INVENTORY.\n",
    "\n",
    "if prod_id in record.keys():\n",
    "    record[prod_id] = {\"prod_name\": prod_name, \"price\": price, \"quant\": record[prod_id]['quant'] + quant, \"exp\": exp}\n",
    "    \n",
    "#ADDING PRODUCT INTO AN INVENTORY    \n",
    "    \n",
    "else:\n",
    "    record[prod_id] = {\"prod_name\": prod_name, \"price\": price, \"quant\": quant, \"exp\": exp}\n",
    "    \n",
    "#LOADING THE UPDATED INVENTORY TO JSON FILE.\n",
    "    \n",
    "js=json.dumps(record)\n",
    "fd=open(\"record.json\",'w')\n",
    "fd.write(js)\n",
    "fd.close()\n"
   ]
  },
  {
   "cell_type": "code",
   "execution_count": null,
   "id": "1a724c8f",
   "metadata": {},
   "outputs": [],
   "source": [
    "#READING THE JSON FILE.\n",
    "\n",
    "fd = open(\"record.json\",'r')\n",
    "r = fd.read()\n",
    "fd.close()\n",
    "r"
   ]
  },
  {
   "cell_type": "code",
   "execution_count": null,
   "id": "57cd732c",
   "metadata": {},
   "outputs": [],
   "source": [
    "#CONVERTING JSON FILE INTO DICTIONARY.\n",
    "\n",
    "record = json.loads(r)\n",
    "record"
   ]
  }
 ],
 "metadata": {
  "kernelspec": {
   "display_name": "Python 3",
   "language": "python",
   "name": "python3"
  },
  "language_info": {
   "codemirror_mode": {
    "name": "ipython",
    "version": 3
   },
   "file_extension": ".py",
   "mimetype": "text/x-python",
   "name": "python",
   "nbconvert_exporter": "python",
   "pygments_lexer": "ipython3",
   "version": "3.8.8"
  }
 },
 "nbformat": 4,
 "nbformat_minor": 5
}
