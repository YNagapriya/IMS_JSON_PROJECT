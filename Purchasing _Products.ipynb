{
 "cells": [
  {
   "cell_type": "markdown",
   "id": "82f41b4f",
   "metadata": {},
   "source": [
    "## Loading the Updated Inventory JSON File"
   ]
  },
  {
   "cell_type": "code",
   "execution_count": 25,
   "id": "c7eb2f60",
   "metadata": {},
   "outputs": [],
   "source": [
    "fd = open('record.json','r')\n",
    "r = fd.read()\n",
    "fd.close()"
   ]
  },
  {
   "cell_type": "code",
   "execution_count": 26,
   "id": "b78276af",
   "metadata": {},
   "outputs": [
    {
     "data": {
      "text/plain": [
       "'{\"1001\": {\"prod_name\": \"choco cake\", \"price\": 25, \"quant\": 1000, \"exp\": \"feb23\"}, \"1002\": {\"prod_name\": \"chocolates\", \"price\": 150, \"quant\": 500, \"exp\": \"march25\"}, \"1003\": {\"prod_name\": \"Soaps\", \"price\": 220, \"quant\": 1020, \"exp\": \"mar23\"}, \"1004\": {\"prod_name\": \"powder\", \"price\": 20, \"quant\": 50, \"exp\": \"jan22\"}, \"1005\": {\"prod_name\": \"handwash\", \"price\": 25, \"quant\": 70, \"exp\": \"april24\"}, \"1006\": {\"prod_name\": \"hairoil\", \"price\": 75, \"quant\": 100, \"exp\": \"august25\"}, \"1007\": {\"prod_name\": \"nivea\", \"price\": 25, \"quant\": 200, \"exp\": \"sep23\"}, \"1008\": {\"prod_name\": \"drinks\", \"price\": 125, \"quant\": 170, \"exp\": \"dec21\"}, \"1009\": {\"prod_name\": \"soyasauce\", \"price\": 50, \"quant\": 75, \"exp\": \"april25\"}, \"1010\": {\"prod_name\": \"closeup\", \"price\": 75, \"quant\": 63, \"exp\": \"oct24\"}, \"1011\": {\"prod_name\": \"biscuits\", \"price\": 10, \"quant\": 700, \"exp\": \"jan22\"}, \"1012\": {\"prod_name\": \"sweets\", \"price\": 15, \"quant\": 21, \"exp\": \"feb22\"}, \"1013\": {\"prod_name\": \"salt\", \"price\": 30, \"quant\": 245, \"exp\": \"april24\"}, \"1014\": {\"prod_name\": \"fair&lovely\", \"price\": 10, \"quant\": 170, \"exp\": \"may28\"}, \"1015\": {\"prod_name\": \"facewash\", \"price\": 50, \"quant\": 100, \"exp\": \"june24\"}, \"1016\": {\"prod_name\": \"perfume\", \"price\": 505, \"quant\": 20, \"exp\": \"april23\"}, \"1017\": {\"prod_name\": \"horlicks\", \"price\": 5, \"quant\": 346, \"exp\": \"sep22\"}, \"1018\": {\"prod_name\": \"sanitizers\", \"price\": 25, \"quant\": 40, \"exp\": \"may24\"}, \"1019\": {\"prod_name\": \"breads\", \"price\": 25, \"quant\": 70, \"exp\": \"dec21\"}, \"1020\": {\"prod_name\": \"vermicelli\", \"price\": 75, \"quant\": 20, \"exp\": \"feb22\"}, \"1021\": {\"prod_name\": \"paints\", \"price\": 555, \"quant\": 30, \"exp\": \"april30\"}, \"1022\": {\"prod_name\": \"surf\", \"price\": 50, \"quant\": 70, \"exp\": \"july24\"}, \"1023\": {\"prod_name\": \"mouth-freshner\", \"price\": 32, \"quant\": 21, \"exp\": \"aug22\"}, \"1024\": {\"prod_name\": \"lipstick\", \"price\": 250, \"quant\": 45, \"exp\": \"nov25\"}, \"1025\": {\"prod_name\": \"tomatosauce\", \"price\": 15, \"quant\": 10, \"exp\": \"jan23\"}, \"100\": {\"prod_name\": \"choco cake\", \"price\": 250, \"quant\": 800, \"exp\": \"feb23\"}, \"1029\": {\"prod_name\": \"chips\", \"price\": 25, \"quant\": 45, \"exp\": \"feb22\"}, \"1030\": {\"prod_name\": \"pepper\", \"price\": 50, \"quant\": 10, \"exp\": \"feb23\"}}'"
      ]
     },
     "execution_count": 26,
     "metadata": {},
     "output_type": "execute_result"
    }
   ],
   "source": [
    "r"
   ]
  },
  {
   "cell_type": "code",
   "execution_count": 27,
   "id": "5969f78c",
   "metadata": {},
   "outputs": [],
   "source": [
    "import json"
   ]
  },
  {
   "cell_type": "code",
   "execution_count": 28,
   "id": "f06a634b",
   "metadata": {},
   "outputs": [],
   "source": [
    "record = json.loads(r)"
   ]
  },
  {
   "cell_type": "code",
   "execution_count": 29,
   "id": "6d3d444c",
   "metadata": {},
   "outputs": [
    {
     "data": {
      "text/plain": [
       "{'1001': {'prod_name': 'choco cake',\n",
       "  'price': 25,\n",
       "  'quant': 1000,\n",
       "  'exp': 'feb23'},\n",
       " '1002': {'prod_name': 'chocolates',\n",
       "  'price': 150,\n",
       "  'quant': 500,\n",
       "  'exp': 'march25'},\n",
       " '1003': {'prod_name': 'Soaps', 'price': 220, 'quant': 1020, 'exp': 'mar23'},\n",
       " '1004': {'prod_name': 'powder', 'price': 20, 'quant': 50, 'exp': 'jan22'},\n",
       " '1005': {'prod_name': 'handwash', 'price': 25, 'quant': 70, 'exp': 'april24'},\n",
       " '1006': {'prod_name': 'hairoil',\n",
       "  'price': 75,\n",
       "  'quant': 100,\n",
       "  'exp': 'august25'},\n",
       " '1007': {'prod_name': 'nivea', 'price': 25, 'quant': 200, 'exp': 'sep23'},\n",
       " '1008': {'prod_name': 'drinks', 'price': 125, 'quant': 170, 'exp': 'dec21'},\n",
       " '1009': {'prod_name': 'soyasauce',\n",
       "  'price': 50,\n",
       "  'quant': 75,\n",
       "  'exp': 'april25'},\n",
       " '1010': {'prod_name': 'closeup', 'price': 75, 'quant': 63, 'exp': 'oct24'},\n",
       " '1011': {'prod_name': 'biscuits', 'price': 10, 'quant': 700, 'exp': 'jan22'},\n",
       " '1012': {'prod_name': 'sweets', 'price': 15, 'quant': 21, 'exp': 'feb22'},\n",
       " '1013': {'prod_name': 'salt', 'price': 30, 'quant': 245, 'exp': 'april24'},\n",
       " '1014': {'prod_name': 'fair&lovely',\n",
       "  'price': 10,\n",
       "  'quant': 170,\n",
       "  'exp': 'may28'},\n",
       " '1015': {'prod_name': 'facewash', 'price': 50, 'quant': 100, 'exp': 'june24'},\n",
       " '1016': {'prod_name': 'perfume', 'price': 505, 'quant': 20, 'exp': 'april23'},\n",
       " '1017': {'prod_name': 'horlicks', 'price': 5, 'quant': 346, 'exp': 'sep22'},\n",
       " '1018': {'prod_name': 'sanitizers', 'price': 25, 'quant': 40, 'exp': 'may24'},\n",
       " '1019': {'prod_name': 'breads', 'price': 25, 'quant': 70, 'exp': 'dec21'},\n",
       " '1020': {'prod_name': 'vermicelli', 'price': 75, 'quant': 20, 'exp': 'feb22'},\n",
       " '1021': {'prod_name': 'paints', 'price': 555, 'quant': 30, 'exp': 'april30'},\n",
       " '1022': {'prod_name': 'surf', 'price': 50, 'quant': 70, 'exp': 'july24'},\n",
       " '1023': {'prod_name': 'mouth-freshner',\n",
       "  'price': 32,\n",
       "  'quant': 21,\n",
       "  'exp': 'aug22'},\n",
       " '1024': {'prod_name': 'lipstick', 'price': 250, 'quant': 45, 'exp': 'nov25'},\n",
       " '1025': {'prod_name': 'tomatosauce',\n",
       "  'price': 15,\n",
       "  'quant': 10,\n",
       "  'exp': 'jan23'},\n",
       " '100': {'prod_name': 'choco cake',\n",
       "  'price': 250,\n",
       "  'quant': 800,\n",
       "  'exp': 'feb23'},\n",
       " '1029': {'prod_name': 'chips', 'price': 25, 'quant': 45, 'exp': 'feb22'},\n",
       " '1030': {'prod_name': 'pepper', 'price': 50, 'quant': 10, 'exp': 'feb23'}}"
      ]
     },
     "execution_count": 29,
     "metadata": {},
     "output_type": "execute_result"
    }
   ],
   "source": [
    "record"
   ]
  },
  {
   "cell_type": "code",
   "execution_count": 6,
   "id": "cd14dd1f",
   "metadata": {},
   "outputs": [],
   "source": [
    "#to start the sales file length from 0 for using len(sales)+1\n",
    "sales={}                       "
   ]
  },
  {
   "cell_type": "markdown",
   "id": "f07f6f2a",
   "metadata": {},
   "source": [
    "## Purchasing Products and Bill generation"
   ]
  },
  {
   "cell_type": "code",
   "execution_count": 36,
   "id": "c9076f75",
   "metadata": {
    "scrolled": false
   },
   "outputs": [
    {
     "name": "stdout",
     "output_type": "stream",
     "text": [
      "Enter number of items you want to buy: 1\n",
      "***Choose the product ids corresponding to the items u want to buy***\n",
      "\n",
      "\n",
      "1001-choco cake\n",
      "1002-chocolates\n",
      "1003-Soaps\n",
      "1004-powder\n",
      "1005-handwash\n",
      "1006-hairoil\n",
      "1007-nivea\n",
      "1008-drinks\n",
      "1009-soyasauce\n",
      "1010-closeup\n",
      "1011-biscuits\n",
      "1012-sweets\n",
      "1013-salt\n",
      "1014-fair&lovely\n",
      "1015-facewash\n",
      "1016-perfume\n",
      "1017-horlicks\n",
      "1018-sanitizers\n",
      "1019-breads\n",
      "1020-vermicelli\n",
      "1021-paints\n",
      "1022-surf\n",
      "1023-mouth-freshner\n",
      "1024-lipstick\n",
      "1025-tomatosauce\n",
      "100-choco cake\n",
      "1029-chips\n",
      "1030-pepper\n",
      "Enter product id: 1500\n",
      "Enter product quantity: 5\n",
      "\n",
      "\n",
      "*******************************************\n",
      "              *****SORRY*****\n",
      "The product you want to buy is not available\n",
      "                     or\n",
      "The required quantity of that Product is unavailable\n",
      "*******************************************\n",
      "\n",
      "\n",
      "************************\n",
      "************************\n",
      "\n",
      "\n",
      "Total price for all items:  0\n",
      "\n",
      "\n",
      "************************\n",
      "************************\n"
     ]
    }
   ],
   "source": [
    "#taking input from the user to get details about what he/she wants to buy\n",
    "num = int(input('Enter number of items you want to buy: '))\n",
    "print('***Choose the product ids corresponding to the items u want to buy***')\n",
    "print('\\n')\n",
    "for i in record.keys():\n",
    "   print('{}-{}'.format(i,record[i]['prod_name']))\n",
    "\n",
    "total_price = 0\n",
    "\n",
    "for i in range(num):\n",
    "    \n",
    "  uprod_id=str(input('Enter product id: '))\n",
    "  p_quantity=int(input('Enter product quantity: '))\n",
    "  \n",
    "\n",
    "  if (uprod_id in record.keys() & str(p_quantity) <= str(record[uprod_id]['quant'])): \n",
    "    print('\\n')\n",
    "    print('************************')\n",
    "    \n",
    "    #to get the time of buy\n",
    "    import time\n",
    "    time=time.ctime()\n",
    "    print(time)\n",
    "    \n",
    "    print('************************')\n",
    " \n",
    "    print('Name of the product: ',record[uprod_id]['prod_name'])\n",
    "    print('Quantity available: ',record[uprod_id]['quant'])\n",
    "    print('Price per item: ',record[uprod_id]['price'])\n",
    "    \n",
    "    \n",
    "    print('************************')\n",
    "    \n",
    "    \n",
    "    price = record[uprod_id]['price']*p_quantity\n",
    "    total_price += price\n",
    "    print('Price for the item: ',price)\n",
    "  \n",
    "    print('************************')\n",
    "    print('************************')\n",
    "    print('\\n')\n",
    "    \n",
    "    \n",
    "    #getting the new quantity after each buy\n",
    "    record[uprod_id]['quant'] = record[uprod_id]['quant'] - p_quantity\n",
    "    \n",
    "    \n",
    "    #calculate and updating sales details\n",
    "    import json\n",
    "    a=len(sales)+1\n",
    "    sales[a] = {'prod_name': record[uprod_id]['prod_name'], 'price':record[uprod_id]['price'] ,'quant': p_quantity, 'purchase time': time}\n",
    "\n",
    "\n",
    "\n",
    "  else:\n",
    "    print('\\n')\n",
    "    print('*******************************************')\n",
    "    print('              *****SORRY*****')\n",
    "    print('The product you want to buy is not available')\n",
    "    print('                     or')\n",
    "    print('The required quantity of that Product is unavailable')\n",
    "    print('*******************************************')\n",
    "    print('\\n')\n",
    "    \n",
    "\n",
    "print('************************')\n",
    "print('************************')\n",
    "print('\\n')\n",
    "print('Total price for all items: ',total_price)\n",
    "print('\\n')\n",
    "print('************************')\n",
    "print('************************')\n",
    "\n",
    "\n",
    "#laoding the updated quantity data into record.json file\n",
    "\n",
    "import json\n",
    "js=json.dumps(record)\n",
    "f=open('record.json','w')\n",
    "f.write(js)\n",
    "f.close()"
   ]
  },
  {
   "cell_type": "markdown",
   "id": "99a11b59",
   "metadata": {},
   "source": [
    "## Updating sales.json file"
   ]
  },
  {
   "cell_type": "code",
   "execution_count": 14,
   "id": "ddf65afa",
   "metadata": {
    "scrolled": true
   },
   "outputs": [],
   "source": [
    "import json\n",
    "\n",
    "x= open('sales.json','w')\n",
    "ss= json.dumps(sales)\n",
    "x.write(ss)\n",
    "x.close()"
   ]
  },
  {
   "cell_type": "code",
   "execution_count": 15,
   "id": "d06fa321",
   "metadata": {},
   "outputs": [
    {
     "data": {
      "text/plain": [
       "{1: {'prod_name': 'horlicks',\n",
       "  'price': 5,\n",
       "  'quant': 2,\n",
       "  'purchase time': 'Mon Sep  6 20:58:13 2021'},\n",
       " 2: {'prod_name': 'salt',\n",
       "  'price': 30,\n",
       "  'quant': 5,\n",
       "  'purchase time': 'Mon Sep  6 20:58:53 2021'},\n",
       " 3: {'prod_name': 'sweets',\n",
       "  'price': 15,\n",
       "  'quant': 9,\n",
       "  'purchase time': 'Mon Sep  6 20:59:01 2021'}}"
      ]
     },
     "execution_count": 15,
     "metadata": {},
     "output_type": "execute_result"
    }
   ],
   "source": [
    "sales"
   ]
  },
  {
   "cell_type": "code",
   "execution_count": 24,
   "id": "86d948b6",
   "metadata": {},
   "outputs": [
    {
     "ename": "KeyError",
     "evalue": "'uprod_id'",
     "output_type": "error",
     "traceback": [
      "\u001b[1;31m---------------------------------------------------------------------------\u001b[0m",
      "\u001b[1;31mKeyError\u001b[0m                                  Traceback (most recent call last)",
      "\u001b[1;32m<ipython-input-24-aff9ab8ba461>\u001b[0m in \u001b[0;36m<module>\u001b[1;34m\u001b[0m\n\u001b[1;32m----> 1\u001b[1;33m \u001b[0mtype\u001b[0m\u001b[1;33m(\u001b[0m\u001b[0mrecord\u001b[0m\u001b[1;33m[\u001b[0m\u001b[1;34m'uprod_id'\u001b[0m\u001b[1;33m]\u001b[0m\u001b[1;33m)\u001b[0m\u001b[1;33m\u001b[0m\u001b[1;33m\u001b[0m\u001b[0m\n\u001b[0m",
      "\u001b[1;31mKeyError\u001b[0m: 'uprod_id'"
     ]
    }
   ],
   "source": [
    "type(record['uprod_id'])"
   ]
  },
  {
   "cell_type": "code",
   "execution_count": null,
   "id": "bd7b7b8b",
   "metadata": {},
   "outputs": [],
   "source": []
  }
 ],
 "metadata": {
  "kernelspec": {
   "display_name": "Python 3",
   "language": "python",
   "name": "python3"
  },
  "language_info": {
   "codemirror_mode": {
    "name": "ipython",
    "version": 3
   },
   "file_extension": ".py",
   "mimetype": "text/x-python",
   "name": "python",
   "nbconvert_exporter": "python",
   "pygments_lexer": "ipython3",
   "version": "3.8.8"
  }
 },
 "nbformat": 4,
 "nbformat_minor": 5
}
