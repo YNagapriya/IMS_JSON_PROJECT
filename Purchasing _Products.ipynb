{
 "cells": [
  {
   "cell_type": "markdown",
   "id": "82f41b4f",
   "metadata": {},
   "source": [
    "## Loading the Updated Inventory JSON File"
   ]
  },
  {
   "cell_type": "code",
   "execution_count": null,
   "id": "c7eb2f60",
   "metadata": {},
   "outputs": [],
   "source": [
    "fd = open('record.json','r')\n",
    "r = fd.read()\n",
    "fd.close()"
   ]
  },
  {
   "cell_type": "code",
   "execution_count": null,
   "id": "b78276af",
   "metadata": {},
   "outputs": [],
   "source": [
    "r"
   ]
  },
  {
   "cell_type": "code",
   "execution_count": null,
   "id": "5969f78c",
   "metadata": {},
   "outputs": [],
   "source": [
    "import json"
   ]
  },
  {
   "cell_type": "code",
   "execution_count": null,
   "id": "f06a634b",
   "metadata": {},
   "outputs": [],
   "source": [
    "record = json.loads(r)"
   ]
  },
  {
   "cell_type": "code",
   "execution_count": null,
   "id": "6d3d444c",
   "metadata": {},
   "outputs": [],
   "source": [
    "record"
   ]
  },
  {
   "cell_type": "code",
   "execution_count": null,
   "id": "cd14dd1f",
   "metadata": {},
   "outputs": [],
   "source": [
    "#to start the sales file length from 0 for using len(sales)+1\n",
    "sales={}                       "
   ]
  },
  {
   "cell_type": "markdown",
   "id": "f07f6f2a",
   "metadata": {},
   "source": [
    "## Purchasing Products and Bill generation"
   ]
  },
  {
   "cell_type": "code",
   "execution_count": null,
   "id": "c9076f75",
   "metadata": {
    "scrolled": false
   },
   "outputs": [],
   "source": [
    "#taking input from the user to get details about what he/she wants to buy\n",
    "num = int(input('Enter number of items you want to buy: '))\n",
    "print('***Choose the product ids corresponding to the items u want to buy***')\n",
    "print('\\n')\n",
    "for i in record.keys():\n",
    "   print('{}-{}'.format(i,record[i]['prod_name']))\n",
    "\n",
    "total_price = 0\n",
    "\n",
    "for i in range(num):\n",
    "    \n",
    "  uprod_id=str(input('Enter product id: '))\n",
    "  p_quantity=int(input('Enter product quantity: '))\n",
    "  \n",
    "\n",
    "  if (uprod_id in record.keys() & str(p_quantity) <= str(record[uprod_id]['quant'])): \n",
    "    print('\\n')\n",
    "    print('************************')\n",
    "    \n",
    "    #to get the time of buy\n",
    "    import time\n",
    "    time=time.ctime()\n",
    "    print(time)\n",
    "    \n",
    "    print('************************')\n",
    " \n",
    "    print('Name of the product: ',record[uprod_id]['prod_name'])\n",
    "    print('Quantity available: ',record[uprod_id]['quant'])\n",
    "    print('Price per item: ',record[uprod_id]['price'])\n",
    "    \n",
    "    \n",
    "    print('************************')\n",
    "    \n",
    "    \n",
    "    price = record[uprod_id]['price']*p_quantity\n",
    "    total_price += price\n",
    "    print('Price for the item: ',price)\n",
    "  \n",
    "    print('************************')\n",
    "    print('************************')\n",
    "    print('\\n')\n",
    "    \n",
    "    \n",
    "    #getting the new quantity after each buy\n",
    "    record[uprod_id]['quant'] = record[uprod_id]['quant'] - p_quantity\n",
    "    \n",
    "    \n",
    "    #calculate and updating sales details\n",
    "    import json\n",
    "    a=len(sales)+1\n",
    "    sales[a] = {'prod_name': record[uprod_id]['prod_name'], 'price':record[uprod_id]['price'] ,'quant': p_quantity, 'purchase time': time}\n",
    "\n",
    "\n",
    "\n",
    "  else:\n",
    "    print('\\n')\n",
    "    print('*******************************************')\n",
    "    print('              *****SORRY*****')\n",
    "    print('The product you want to buy is not available')\n",
    "    print('                     or')\n",
    "    print('The required quantity of that Product is unavailable')\n",
    "    print('*******************************************')\n",
    "    print('\\n')\n",
    "    \n",
    "\n",
    "print('************************')\n",
    "print('************************')\n",
    "print('\\n')\n",
    "print('Total price for all items: ',total_price)\n",
    "print('\\n')\n",
    "print('************************')\n",
    "print('************************')\n",
    "\n",
    "\n",
    "#laoding the updated quantity data into record.json file\n",
    "\n",
    "import json\n",
    "js=json.dumps(record)\n",
    "f=open('record.json','w')\n",
    "f.write(js)\n",
    "f.close()"
   ]
  },
  {
   "cell_type": "markdown",
   "id": "99a11b59",
   "metadata": {},
   "source": [
    "## Updating sales.json file"
   ]
  },
  {
   "cell_type": "code",
   "execution_count": null,
   "id": "ddf65afa",
   "metadata": {
    "scrolled": true
   },
   "outputs": [],
   "source": [
    "import json\n",
    "\n",
    "x= open('sales.json','w')\n",
    "ss= json.dumps(sales)\n",
    "x.write(ss)\n",
    "x.close()"
   ]
  },
  {
   "cell_type": "code",
   "execution_count": null,
   "id": "d06fa321",
   "metadata": {},
   "outputs": [],
   "source": [
    "sales"
   ]
  }
 ],
 "metadata": {
  "kernelspec": {
   "display_name": "Python 3",
   "language": "python",
   "name": "python3"
  },
  "language_info": {
   "codemirror_mode": {
    "name": "ipython",
    "version": 3
   },
   "file_extension": ".py",
   "mimetype": "text/x-python",
   "name": "python",
   "nbconvert_exporter": "python",
   "pygments_lexer": "ipython3",
   "version": "3.8.8"
  }
 },
 "nbformat": 4,
 "nbformat_minor": 5
}
